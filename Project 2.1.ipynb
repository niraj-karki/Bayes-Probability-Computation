{
 "cells": [
  {
   "cell_type": "markdown",
   "id": "xLODvEepACK-",
   "metadata": {
    "id": "xLODvEepACK-"
   },
   "source": [
    "## Approach\n",
    "\n",
    "Creating specific function for each quantities, reading the data file first, performing calculations and returning the values resulting from the calculations in the form of a dictionary so that we would be able to retrieve the values as required."
   ]
  },
  {
   "cell_type": "code",
   "execution_count": 1,
   "id": "gNsPpH5m_JBr",
   "metadata": {
    "id": "gNsPpH5m_JBr"
   },
   "outputs": [],
   "source": [
    "# Imporing the required library\n",
    "import pandas as pd"
   ]
  },
  {
   "cell_type": "code",
   "execution_count": 4,
   "id": "f509c70a",
   "metadata": {},
   "outputs": [],
   "source": [
    "df = pd.read_csv(\"fishing.data\", sep=\" \")"
   ]
  },
  {
   "cell_type": "code",
   "execution_count": 5,
   "id": "00ce4c09",
   "metadata": {},
   "outputs": [
    {
     "data": {
      "text/html": [
       "<div>\n",
       "<style scoped>\n",
       "    .dataframe tbody tr th:only-of-type {\n",
       "        vertical-align: middle;\n",
       "    }\n",
       "\n",
       "    .dataframe tbody tr th {\n",
       "        vertical-align: top;\n",
       "    }\n",
       "\n",
       "    .dataframe thead th {\n",
       "        text-align: right;\n",
       "    }\n",
       "</style>\n",
       "<table border=\"1\" class=\"dataframe\">\n",
       "  <thead>\n",
       "    <tr style=\"text-align: right;\">\n",
       "      <th></th>\n",
       "      <th>Oracle</th>\n",
       "      <th>Wind</th>\n",
       "      <th>Air</th>\n",
       "      <th>Water</th>\n",
       "      <th>Sky</th>\n",
       "    </tr>\n",
       "  </thead>\n",
       "  <tbody>\n",
       "    <tr>\n",
       "      <th>0</th>\n",
       "      <td>Yes</td>\n",
       "      <td>Strong</td>\n",
       "      <td>Hot</td>\n",
       "      <td>Warm</td>\n",
       "      <td>Sunny</td>\n",
       "    </tr>\n",
       "    <tr>\n",
       "      <th>1</th>\n",
       "      <td>No</td>\n",
       "      <td>Weak</td>\n",
       "      <td>Hot</td>\n",
       "      <td>Warm</td>\n",
       "      <td>Sunny</td>\n",
       "    </tr>\n",
       "    <tr>\n",
       "      <th>2</th>\n",
       "      <td>Yes</td>\n",
       "      <td>Strong</td>\n",
       "      <td>Hot</td>\n",
       "      <td>Warm</td>\n",
       "      <td>Cloudy</td>\n",
       "    </tr>\n",
       "    <tr>\n",
       "      <th>3</th>\n",
       "      <td>Yes</td>\n",
       "      <td>Strong</td>\n",
       "      <td>Hot</td>\n",
       "      <td>Moderate</td>\n",
       "      <td>Rainy</td>\n",
       "    </tr>\n",
       "    <tr>\n",
       "      <th>4</th>\n",
       "      <td>No</td>\n",
       "      <td>Strong</td>\n",
       "      <td>Cold</td>\n",
       "      <td>Cool</td>\n",
       "      <td>Cloudy</td>\n",
       "    </tr>\n",
       "    <tr>\n",
       "      <th>5</th>\n",
       "      <td>No</td>\n",
       "      <td>Weak</td>\n",
       "      <td>Cold</td>\n",
       "      <td>Cool</td>\n",
       "      <td>Rainy</td>\n",
       "    </tr>\n",
       "    <tr>\n",
       "      <th>6</th>\n",
       "      <td>No</td>\n",
       "      <td>Weak</td>\n",
       "      <td>Cold</td>\n",
       "      <td>Cool</td>\n",
       "      <td>Sunny</td>\n",
       "    </tr>\n",
       "    <tr>\n",
       "      <th>7</th>\n",
       "      <td>Yes</td>\n",
       "      <td>Strong</td>\n",
       "      <td>Hot</td>\n",
       "      <td>Moderate</td>\n",
       "      <td>Sunny</td>\n",
       "    </tr>\n",
       "    <tr>\n",
       "      <th>8</th>\n",
       "      <td>Yes</td>\n",
       "      <td>Strong</td>\n",
       "      <td>Cold</td>\n",
       "      <td>Cool</td>\n",
       "      <td>Sunny</td>\n",
       "    </tr>\n",
       "    <tr>\n",
       "      <th>9</th>\n",
       "      <td>No</td>\n",
       "      <td>Strong</td>\n",
       "      <td>Cold</td>\n",
       "      <td>Moderate</td>\n",
       "      <td>Rainy</td>\n",
       "    </tr>\n",
       "    <tr>\n",
       "      <th>10</th>\n",
       "      <td>Yes</td>\n",
       "      <td>Weak</td>\n",
       "      <td>Cold</td>\n",
       "      <td>Moderate</td>\n",
       "      <td>Sunny</td>\n",
       "    </tr>\n",
       "    <tr>\n",
       "      <th>11</th>\n",
       "      <td>Yes</td>\n",
       "      <td>Weak</td>\n",
       "      <td>Hot</td>\n",
       "      <td>Moderate</td>\n",
       "      <td>Sunny</td>\n",
       "    </tr>\n",
       "    <tr>\n",
       "      <th>12</th>\n",
       "      <td>Yes</td>\n",
       "      <td>Strong</td>\n",
       "      <td>Cold</td>\n",
       "      <td>Warm</td>\n",
       "      <td>Sunny</td>\n",
       "    </tr>\n",
       "    <tr>\n",
       "      <th>13</th>\n",
       "      <td>No</td>\n",
       "      <td>Weak</td>\n",
       "      <td>Hot</td>\n",
       "      <td>Moderate</td>\n",
       "      <td>Rainy</td>\n",
       "    </tr>\n",
       "  </tbody>\n",
       "</table>\n",
       "</div>"
      ],
      "text/plain": [
       "   Oracle    Wind   Air     Water     Sky\n",
       "0     Yes  Strong   Hot      Warm   Sunny\n",
       "1      No    Weak   Hot      Warm   Sunny\n",
       "2     Yes  Strong   Hot      Warm  Cloudy\n",
       "3     Yes  Strong   Hot  Moderate   Rainy\n",
       "4      No  Strong  Cold      Cool  Cloudy\n",
       "5      No    Weak  Cold      Cool   Rainy\n",
       "6      No    Weak  Cold      Cool   Sunny\n",
       "7     Yes  Strong   Hot  Moderate   Sunny\n",
       "8     Yes  Strong  Cold      Cool   Sunny\n",
       "9      No  Strong  Cold  Moderate   Rainy\n",
       "10    Yes    Weak  Cold  Moderate   Sunny\n",
       "11    Yes    Weak   Hot  Moderate   Sunny\n",
       "12    Yes  Strong  Cold      Warm   Sunny\n",
       "13     No    Weak   Hot  Moderate   Rainy"
      ]
     },
     "execution_count": 5,
     "metadata": {},
     "output_type": "execute_result"
    }
   ],
   "source": [
    "df"
   ]
  },
  {
   "cell_type": "code",
   "execution_count": null,
   "id": "bfa5151c",
   "metadata": {},
   "outputs": [],
   "source": []
  },
  {
   "cell_type": "code",
   "execution_count": 6,
   "id": "39bb2c87",
   "metadata": {
    "colab": {
     "base_uri": "https://localhost:8080/"
    },
    "id": "39bb2c87",
    "outputId": "abadb92e-477a-4d6f-b73e-d0486970bd08"
   },
   "outputs": [
    {
     "data": {
      "text/plain": [
       "{'prior_Yes': 0.48, 'prior_No': 0.52}"
      ]
     },
     "execution_count": 6,
     "metadata": {},
     "output_type": "execute_result"
    }
   ],
   "source": [
    "def prior(data):\n",
    "    df = pd.read_csv(data, sep=\" \")\n",
    "    prior_Yes = df[df.Oracle == \"Yes\"].shape[0]/df.shape[0]\n",
    "    prior_No = 1-prior_Yes\n",
    "    return {\"prior_Yes\": prior_Yes, \"prior_No\": prior_No}\n",
    "\n",
    "prior(\"sample.data\")"
   ]
  },
  {
   "cell_type": "markdown",
   "id": "9b007e4b",
   "metadata": {},
   "source": [
    "## Function to get Prior Probabilities\n",
    "\n",
    "\n",
    "The function above, called *prior*, has one parameter that needs to be passed when it is called and that would be the name of the file with the file extension as string. Since the data that we are using has columns separated by one spaces (\" \"), we read in the file as a pandas data frame and specify how the columns are separated. This will be the same for all the functions that are created for this part of the project. \n",
    "\n",
    "Once the data is read in we focus our attention towards getting prior probabilities for each class in our data. We have two classes (Yes and No), so we create two filters for our data frame that can filter out rows for each of the classes as separate data frames. The *shape* method from the pandas library is used to get a list, the first element of which is the number of rows and the second element is the number of columns in the data frame ([rows, columns]). Using this method, we divide the number of rows that contain one of the classes by the total number of rows in the original data frame which would give us the prior probability of that class. Since we only have 2 classes, subtracting the prior probability for one class from 1 would give us the prior probability of another class. After the calculation, we return a dictionary with the quantities and we do this for all the functions created below too.\n",
    "\n",
    "\n",
    "    Prior: estimate the probability of each class:\n",
    "        P(cj) = #cj / #training examples "
   ]
  },
  {
   "cell_type": "code",
   "execution_count": 3,
   "id": "lmO0ro-9_ff1",
   "metadata": {
    "colab": {
     "base_uri": "https://localhost:8080/"
    },
    "id": "lmO0ro-9_ff1",
    "outputId": "4d7dfdf3-9fa3-4f1e-fca1-6aa336f8c130",
    "scrolled": true
   },
   "outputs": [
    {
     "data": {
      "text/plain": [
       "{'like_A_Yes': 0.6666666666666666,\n",
       " 'like_A_No': 0.38461538461538464,\n",
       " 'like_B_Yes': 0.33333333333333337,\n",
       " 'like_B_No': 0.6153846153846154}"
      ]
     },
     "execution_count": 3,
     "metadata": {},
     "output_type": "execute_result"
    }
   ],
   "source": [
    "def likelihood(data):\n",
    "    df = pd.read_csv(data, sep=\" \")\n",
    "    like_A_Yes = df[df.Oracle == \"Yes\"][df[df.Oracle == \"Yes\"].Attribute == \"A\"].shape[0] / df[df.Oracle == \"Yes\"].shape[0]\n",
    "    like_A_No = df[df.Oracle == \"No\"][df[df.Oracle == \"No\"].Attribute == \"A\"].shape[0] / df[df.Oracle == \"No\"].shape[0]\n",
    "    like_B_Yes = 1-like_A_Yes\n",
    "    like_B_No = 1-like_A_No\n",
    "    return {\"like_A_Yes\": like_A_Yes, \"like_A_No\": like_A_No, \"like_B_Yes\": like_B_Yes, \"like_B_No\": like_B_No}\n",
    "likelihood(\"sample.data\")\n"
   ]
  },
  {
   "cell_type": "markdown",
   "id": "cc681061",
   "metadata": {},
   "source": [
    "## Function to get Likelihood\n",
    "\n",
    "\n",
    "    Likelihood: estimate the probability of each attribute value ai, given a class of type j\n",
    "        P(ai | cj) = #ai / #cj\n",
    "    \n",
    "According to the above description and formula to calculate likelihood, we need to get the number of rows with a combination of each attribute and class. In our case, since we have 2 attributes and 2 classes, we would have to get 4 values (number of rows where attribute is \"A\" and class is \"Yes\", number of rows where attribute is \"A\" and class is \"No\", number of rows where attribute is \"B\" and class is \"Yes\", number of rows where attribute is \"B\" and class is \"No\")\n",
    "\n",
    "To get these values we filter our original data frame to get a data frame that has the specific class we want and we filter the resulted data frame yet again to get the data frame with the specific attribute we want. We get the value for number of rows using the *shape* method on each of these data frames and divide these values by the number of rows of the respected class to get the likelihood according to the formula mentioned above."
   ]
  },
  {
   "cell_type": "code",
   "execution_count": 4,
   "id": "075e9eef",
   "metadata": {
    "colab": {
     "base_uri": "https://localhost:8080/"
    },
    "id": "075e9eef",
    "outputId": "2ffc8696-de73-45d4-e2a1-9f346b802775"
   },
   "outputs": [
    {
     "data": {
      "text/plain": [
       "{'evi_A': 0.52, 'evi_B': 0.48}"
      ]
     },
     "execution_count": 4,
     "metadata": {},
     "output_type": "execute_result"
    }
   ],
   "source": [
    "def evidence(data):\n",
    "    df = pd.read_csv(data, sep=\" \")\n",
    "    evi_A = df[df.Attribute == \"A\"].shape[0]/df.shape[0]\n",
    "    evi_B = 1-evi_A\n",
    "    return {\"evi_A\": evi_A, \"evi_B\": evi_B}\n",
    "\n",
    "evidence(\"sample.data\")\n"
   ]
  },
  {
   "cell_type": "markdown",
   "id": "230876a1",
   "metadata": {},
   "source": [
    "## Function to get Evidence\n",
    "\n",
    "\n",
    "    Evidence: estimate the probability of each attribute value:\n",
    "        P(ai) = #ai / #training examples\n",
    "\n",
    "    \n",
    "Getting the evidence is pretty much the same process as getting the prior probabilities but instead of getting the probabilities of getting each of the different classes, we get the probabilities of getting each of the different attributes. We filter out the data frame for each class, get it's number of rows and divide it with the total rows in the training set to get the evidence."
   ]
  },
  {
   "cell_type": "code",
   "execution_count": 5,
   "id": "6d44cf06",
   "metadata": {
    "colab": {
     "base_uri": "https://localhost:8080/"
    },
    "id": "6d44cf06",
    "outputId": "390d56ef-aa79-4cb4-f797-89d726464b4f"
   },
   "outputs": [
    {
     "data": {
      "text/plain": [
       "{'post_Yes_A': 0.615,\n",
       " 'post_Yes_B': 0.333,\n",
       " 'post_No_A': 0.385,\n",
       " 'post_No_B': 0.667}"
      ]
     },
     "execution_count": 5,
     "metadata": {},
     "output_type": "execute_result"
    }
   ],
   "source": [
    "def posterior(data):\n",
    "    post_Yes_A = round((likelihood(data)[\"like_A_Yes\"] * prior(data)[\"prior_Yes\"])/evidence(data)[\"evi_A\"], 3)\n",
    "    post_Yes_B = round((likelihood(data)[\"like_B_Yes\"] * prior(data)[\"prior_Yes\"])/evidence(data)[\"evi_B\"], 3)\n",
    "    post_No_A = round((likelihood(data)[\"like_A_No\"] * prior(data)[\"prior_No\"])/evidence(data)[\"evi_A\"], 3)\n",
    "    post_No_B = round((likelihood(data)[\"like_B_No\"] * prior(data)[\"prior_No\"])/evidence(data)[\"evi_B\"], 3)\n",
    "    return {\"post_Yes_A\": post_Yes_A, \"post_Yes_B\": post_Yes_B, \"post_No_A\": post_No_A, \"post_No_B\": post_No_B}\n",
    "posterior(\"sample.data\")"
   ]
  },
  {
   "cell_type": "code",
   "execution_count": 10,
   "id": "1e0a6d42",
   "metadata": {},
   "outputs": [
    {
     "name": "stdout",
     "output_type": "stream",
     "text": [
      "The likelihood that a new instance is of class ‘Yes’, given an attribute value of ‘A’ is 0.615.\n"
     ]
    }
   ],
   "source": [
    "print(\"The likelihood that a new instance is of class ‘Yes’, given an attribute value of ‘A’ is {}.\".format(posterior(\"sample.data\")[\"post_Yes_A\"]))"
   ]
  },
  {
   "cell_type": "markdown",
   "id": "3cae9f62",
   "metadata": {},
   "source": [
    "## Function to get Posterior Probabilities\n",
    "\n",
    "\n",
    "    Posterior: estimate the probability of a class j after seeing attribute i\n",
    "        P(cj | ai) = [P(ai | cj) · P(cj)] / P(ai) \n",
    "\n",
    "    \n",
    "According to the formula to get the posterior probability, we multiply the likelihood with the prior probability and divide the result by the evidence for specific attribute and class. For example, to find the probability of getting a \"Yes\" class given that the attribute is \"A\" (Posterior), we multiply the probability of having attribute \"A\" given class of \"Yes\" (Likelihood) with the probability of getting a \"Yes\" class (Prior) and divide the result with the probability of getting an attribute value of \"A\" (Evidence).\n",
    "\n",
    "Since we have all the functions required to calculate the posterior probability, we just call those functions with the required values and perform the calculation and return all the posterior probabilies in a **dictionary**. "
   ]
  },
  {
   "cell_type": "markdown",
   "id": "wxljo8sAH2gc",
   "metadata": {
    "id": "wxljo8sAH2gc"
   },
   "source": [
    "## Conclusions\n",
    "\n",
    "It was a pretty straightforward project and we did not find any specific difficulty while working on it. We were just confused between returning all of the quantities in a single function or returning them separately by creating a function for each. At last, we decided to use a spearate function for each quantities thinking it might be more useful in Part II of the project."
   ]
  },
  {
   "cell_type": "code",
   "execution_count": null,
   "id": "cfe49f08",
   "metadata": {},
   "outputs": [],
   "source": []
  },
  {
   "cell_type": "code",
   "execution_count": null,
   "id": "6f1ed9e2",
   "metadata": {},
   "outputs": [],
   "source": []
  },
  {
   "cell_type": "code",
   "execution_count": null,
   "id": "47145242",
   "metadata": {},
   "outputs": [],
   "source": [
    "def likelihood(data, attr, c1, c2):\n",
    "    df = pd.read_csv(data, sep=\" \")\n",
    "    like_A_Yes = df[df.Oracle == \"Yes\"][df[df.Oracle == \"Yes\"][attr] == c1].shape[0] / df[df.Oracle == \"Yes\"].shape[0]\n",
    "    like_A_No = df[df.Oracle == \"No\"][df[df.Oracle == \"No\"][attr] == c1].shape[0] / df[df.Oracle == \"No\"].shape[0]\n",
    "    like_B_Yes = 1-like_A_Yes\n",
    "    like_B_No = 1-like_A_No\n",
    "    return {\"like_\"+c1+\"_Yes\": like_A_Yes, \"like_\"+c1+\"_No\": like_A_No, \"like_\"+c2+\"_Yes\": like_B_Yes, \"like_\"+c2+\"_No\": like_B_No}\n",
    "\n",
    "def evidence(data, attr, c1, c2):\n",
    "    df = pd.read_csv(data, sep=\" \")\n",
    "    evi_A = df[df[attr] == c1].shape[0]/df.shape[0]\n",
    "    evi_B = 1-evi_A\n",
    "    return {\"evi_\"+c1: evi_A, \"evi_\"+c2: evi_B}\n",
    "\n",
    "\n",
    "def posterior(data, attr, c1, c2):\n",
    "    post_Yes_A = round((likelihood(data, attr, c1, c2)[\"like_\"+c1+\"_Yes\"] * prior(data)[\"prior_Yes\"])/evidence(data, attr, c1, c2)[\"evi_\"+c1], 3)\n",
    "    post_Yes_B = round((likelihood(data, attr, c1, c2)[\"like_\"+c2+\"_Yes\"] * prior(data)[\"prior_Yes\"])/evidence(data, attr, c1, c2)[\"evi_\"+c2], 3)\n",
    "    post_No_A = round((likelihood(data, attr, c1, c2)[\"like_\"+c1+\"_No\"] * prior(data)[\"prior_No\"])/evidence(data, attr, c1, c2)[\"evi_\"+c1], 3)\n",
    "    post_No_B = round((likelihood(data, attr, c1, c2)[\"like_\"+c2+\"_No\"] * prior(data)[\"prior_No\"])/evidence(data, attr, c1, c2)[\"evi_\"+c2], 3)\n",
    "    return {\"post_Yes_\"+c1: post_Yes_A, \"post_Yes_\"+c2: post_Yes_B, \"post_No_\"+c1: post_No_A, \"post_No_\"+c2: post_No_B}\n"
   ]
  }
 ],
 "metadata": {
  "colab": {
   "provenance": []
  },
  "kernelspec": {
   "display_name": "Python 3 (ipykernel)",
   "language": "python",
   "name": "python3"
  },
  "language_info": {
   "codemirror_mode": {
    "name": "ipython",
    "version": 3
   },
   "file_extension": ".py",
   "mimetype": "text/x-python",
   "name": "python",
   "nbconvert_exporter": "python",
   "pygments_lexer": "ipython3",
   "version": "3.9.12"
  }
 },
 "nbformat": 4,
 "nbformat_minor": 5
}
