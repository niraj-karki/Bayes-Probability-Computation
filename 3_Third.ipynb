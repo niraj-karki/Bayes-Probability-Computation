{
  "nbformat": 4,
  "nbformat_minor": 0,
  "metadata": {
    "colab": {
      "provenance": [],
      "authorship_tag": "ABX9TyM2RUp1yXEnE3SUPkbO90Qi",
      "include_colab_link": true
    },
    "kernelspec": {
      "name": "python3",
      "display_name": "Python 3"
    },
    "language_info": {
      "name": "python"
    }
  },
  "cells": [
    {
      "cell_type": "markdown",
      "metadata": {
        "id": "view-in-github",
        "colab_type": "text"
      },
      "source": [
        "<a href=\"https://colab.research.google.com/github/niraj-karki/Bayes-Probability-Computation/blob/main/3_Third.ipynb\" target=\"_parent\"><img src=\"https://colab.research.google.com/assets/colab-badge.svg\" alt=\"Open In Colab\"/></a>"
      ]
    },
    {
      "cell_type": "code",
      "execution_count": 31,
      "metadata": {
        "colab": {
          "base_uri": "https://localhost:8080/"
        },
        "id": "3sWedfYMxRuX",
        "outputId": "29a29460-321b-4ef5-bbf2-5ca2c95553a9"
      },
      "outputs": [
        {
          "output_type": "stream",
          "name": "stdout",
          "text": [
            "Length -> 11\n",
            "Positive Slicing with Positive Index -> [44, 77, 99, 77]\n",
            "Negative Slicing with Positive Index -> [30, 10, 42, 95, 45, 13, 77, 99]\n",
            "Negative Slicing with Negative Index -> [45, 13, 77]\n",
            "Positive Slicing with Negative Index -> [44, 77, 99, 77, 13]\n"
          ]
        }
      ],
      "source": [
        "main = [55,44,77,99,77,13,45,95,42,10,30]\n",
        "print(\"Length ->\", len(main))\n",
        "print(\"Positive Slicing with Positive Index ->\", main[1:5])\n",
        "print(\"Negative Slicing with Positive Index ->\", main[len(main):2:-1])\n",
        "print(\"Negative Slicing with Negative Index ->\", main[-5:-8:-1])\n",
        "print(\"Positive Slicing with Negative Index ->\", main[-10:-5:1])"
      ]
    },
    {
      "cell_type": "code",
      "source": [],
      "metadata": {
        "id": "DUfAjo-MBiNB"
      },
      "execution_count": null,
      "outputs": []
    },
    {
      "cell_type": "markdown",
      "source": [
        "String and Tuple -> Assignment"
      ],
      "metadata": {
        "id": "wUkWt6uVDw3G"
      }
    },
    {
      "cell_type": "code",
      "source": [
        "a = 31\n",
        "b = 12\n",
        "\n",
        "print(a+b)\n",
        "print(a-b)\n",
        "print(a*b)\n",
        "print(round(a/b, 3))\n",
        "print(a%b)\n",
        "print(a//b)\n",
        "print(a**b)"
      ],
      "metadata": {
        "colab": {
          "base_uri": "https://localhost:8080/"
        },
        "id": "BD0Rgrz4D1FO",
        "outputId": "f2e0e947-314d-464b-e761-98403728a13c"
      },
      "execution_count": 35,
      "outputs": [
        {
          "output_type": "stream",
          "name": "stdout",
          "text": [
            "43\n",
            "19\n",
            "372\n",
            "2.583\n",
            "7\n",
            "2\n",
            "787662783788549761\n"
          ]
        }
      ]
    },
    {
      "cell_type": "code",
      "source": [
        "\n",
        "Python Assignment Operators\n",
        "\n",
        "=    x = 5    x = 5\n",
        "+=    x += 3    x = x + 3\n",
        "-=    x -= 3    x = x - 3\n",
        "*=    x *= 3    x = x * 3\n",
        "/=    x /= 3    x = x / 3\n",
        "%=    x %= 3    x = x % 3\n",
        "//=    x //= 3    x = x // 3\n",
        "**=    x **= 3    x = x ** 3\n",
        "&=    x &= 3    x = x & 3\n",
        "|=    x |= 3    x = x | 3\n",
        "^=    x ^= 3    x = x ^ 3\n",
        ">>=    x >>= 3    x = x >> 3\n",
        "<<=    x <<= 3    x = x << 3"
      ],
      "metadata": {
        "id": "BJvnT4w_FKg0"
      },
      "execution_count": null,
      "outputs": []
    },
    {
      "cell_type": "code",
      "source": [
        "x = 5\n",
        "print(\"x ->\",x)\n",
        "x += 3\n",
        "print(\"x += 3 ->\", x)\n",
        "x -= 3\n",
        "print(\"x -= 3 ->\", x)\n",
        "x *= 3\n",
        "print(\"x *= 3 ->\", x)\n",
        "x /= 3\n",
        "print(\"x /= 3 ->\", x)\n",
        "x %= 3\n",
        "print(\"x %= 3 ->\", x)\n",
        "x = 24\n",
        "x //= 3\n",
        "print(\"x //= 3 ->\", x)\n",
        "x **= 3\n",
        "print(\"x **= 3 ->\", x)"
      ],
      "metadata": {
        "colab": {
          "base_uri": "https://localhost:8080/"
        },
        "id": "-GE216jFIH8M",
        "outputId": "652c2467-319d-4b03-b1e0-b8f203a568e2"
      },
      "execution_count": 44,
      "outputs": [
        {
          "output_type": "stream",
          "name": "stdout",
          "text": [
            "x -> 5\n",
            "x += 3 -> 8\n",
            "x -= 3 -> 5\n",
            "x *= 3 -> 15\n",
            "x /= 3 -> 5.0\n",
            "x %= 3 -> 2.0\n",
            "x //= 3 -> 8\n",
            "x **= 3 -> 512\n"
          ]
        }
      ]
    },
    {
      "cell_type": "code",
      "source": [],
      "metadata": {
        "id": "CAKiTeGLInTq"
      },
      "execution_count": null,
      "outputs": []
    }
  ]
}